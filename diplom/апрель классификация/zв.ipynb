{
 "cells": [
  {
   "cell_type": "code",
   "execution_count": 129,
   "id": "e522e37f",
   "metadata": {},
   "outputs": [],
   "source": [
    "# Блок 1 - импорт\n",
    "import numpy as np\n",
    "import pandas as pd\n",
    "import matplotlib.pyplot as plt\n",
    "\n",
    "from sklearn.model_selection import train_test_split, GridSearchCV, StratifiedKFold\n",
    "from sklearn.neural_network import MLPClassifier\n",
    "from sklearn.preprocessing import StandardScaler\n",
    "from sklearn.metrics import classification_report, f1_score, confusion_matrix, ConfusionMatrixDisplay\n",
    "\n",
    "# SMOTE для балансировки классов\n",
    "from imblearn.over_sampling import SMOTE"
   ]
  },
  {
   "cell_type": "code",
   "execution_count": 130,
   "id": "801ea9cc",
   "metadata": {},
   "outputs": [
    {
     "name": "stdout",
     "output_type": "stream",
     "text": [
      "    Yн  Zн  Yс  Zс  Yв  Zв      U      Т\n",
      "0   35   2  27   1  29   1  10.54  79.01\n",
      "1   28   1  26   1  28   1  10.83  66.18\n",
      "2   30   1  26   1  26   1  10.63  77.86\n",
      "3   26   1  25   1  25   1  10.72  73.63\n",
      "4   32   1  27   1  27   1  10.73  68.97\n",
      "..  ..  ..  ..  ..  ..  ..    ...    ...\n",
      "95  16   3  24   1  27   1  10.99  70.14\n",
      "96  23   1  26   1  17   3  10.50  67.98\n",
      "97  28   1  30   1  41   3  10.47  77.19\n",
      "98  30   1  33   2  42   3  10.32  68.56\n",
      "99  24   1  26   1  16   3  10.69  63.23\n",
      "\n",
      "[100 rows x 8 columns]\n",
      "Колонки: ['Yн', 'Zн', 'Yс', 'Zс', 'Yв', 'Zв', 'U', 'Т']\n"
     ]
    }
   ],
   "source": [
    "# Блок 2 - загрузка данных\n",
    "data = pd.read_excel('class.xlsx')\n",
    "df = pd.DataFrame(data)\n",
    "\n",
    "print(df)\n",
    "print(\"Колонки:\", df.columns.tolist())"
   ]
  },
  {
   "cell_type": "code",
   "execution_count": 131,
   "id": "1e33ee76",
   "metadata": {},
   "outputs": [
    {
     "name": "stdout",
     "output_type": "stream",
     "text": [
      "Всего классов: 3\n",
      "Распределение классов:\n",
      " Zв\n",
      "1    69\n",
      "2    26\n",
      "3     5\n",
      "Name: count, dtype: int64\n"
     ]
    }
   ],
   "source": [
    "# Блок 3 - формирование признаков и целевой переменной\n",
    "X = df[['Yв', 'U', 'Т']]\n",
    "y = df['Zв']\n",
    "\n",
    "X_train, X_test, y_train, y_test = train_test_split(\n",
    "    X, y,\n",
    "    stratify=y,\n",
    "    test_size=0.25,\n",
    "    random_state=44\n",
    ")\n",
    "\n",
    "print(f\"Всего классов: {len(y.unique())}\")\n",
    "print(\"Распределение классов:\\n\", y.value_counts().sort_index())"
   ]
  },
  {
   "cell_type": "code",
   "execution_count": 132,
   "id": "078df9eb",
   "metadata": {},
   "outputs": [],
   "source": [
    "# Блок 4 - нормализация признаков\n",
    "scaler = StandardScaler()\n",
    "X_train_scaled = scaler.fit_transform(X_train)\n",
    "X_test_scaled = scaler.transform(X_test)"
   ]
  },
  {
   "cell_type": "code",
   "execution_count": 133,
   "id": "e4583175",
   "metadata": {},
   "outputs": [
    {
     "name": "stdout",
     "output_type": "stream",
     "text": [
      "До балансировки: [ 0 52 19  4]\n",
      "После балансировки: [ 0 52 52 52]\n",
      "Веса классов: {0: np.float64(0.4807692307692308), 1: np.float64(1.3157894736842106), 2: np.float64(6.25)}\n"
     ]
    }
   ],
   "source": [
    "from imblearn.over_sampling import SMOTE\n",
    "import numpy as np\n",
    "from sklearn.utils.class_weight import compute_class_weight\n",
    "\n",
    "def balance_classes(X, y):\n",
    "    # Рассчитываем веса классов\n",
    "    class_weights = compute_class_weight(class_weight='balanced', classes=np.unique(y), y=y)\n",
    "    class_weight_dict = {i: class_weights[i] for i in range(len(class_weights))}\n",
    "    \n",
    "    # Используем SMOTE для балансировки\n",
    "    smote = SMOTE(k_neighbors=1, random_state=42)\n",
    "    X_resampled, y_resampled = smote.fit_resample(X, y)\n",
    "    \n",
    "    return X_resampled, y_resampled, class_weight_dict\n",
    "\n",
    "# Применение\n",
    "print(\"До балансировки:\", np.bincount(y_train))\n",
    "X_train_balanced, y_train_balanced, class_weights = balance_classes(X_train_scaled, y_train)\n",
    "print(\"После балансировки:\", np.bincount(y_train_balanced))\n",
    "\n",
    "# Выводим веса классов\n",
    "print(\"Веса классов:\", class_weights)\n"
   ]
  },
  {
   "cell_type": "code",
   "execution_count": 134,
   "id": "83e31f5c",
   "metadata": {},
   "outputs": [],
   "source": [
    "# Блок 5 - подбор гиперпараметров через GridSearchCV\n",
    "param_grid = {\n",
    "    'activation': ['relu', 'tanh', 'logistic'],\n",
    "    'alpha': [0.005, 0.01, 0.05],\n",
    "    'hidden_layer_sizes': [(6,), (8,), (10,)],\n",
    "    'learning_rate': ['constant'],\n",
    "    'learning_rate_init': [1e-8, 1e-7, 1e-6],\n",
    "    'solver': ['lbfgs', 'adam'],\n",
    "    'tol': [1e-6, 1e-5, 1e-4],\n",
    "    'max_iter': [400, 500],\n",
    "    'early_stopping': [True],\n",
    "    'n_iter_no_change': [5, 7],\n",
    "}\n",
    "\n",
    "cv = StratifiedKFold(n_splits=5, shuffle=True, random_state=73)\n",
    "\n",
    "grid_search = GridSearchCV(\n",
    "    estimator=MLPClassifier(random_state=42),\n",
    "    param_grid=param_grid,\n",
    "    scoring='f1_macro',\n",
    "    cv=cv,\n",
    "    n_jobs=-1,\n",
    "    verbose=2\n",
    ")"
   ]
  },
  {
   "cell_type": "code",
   "execution_count": null,
   "id": "734a96b1",
   "metadata": {},
   "outputs": [
    {
     "name": "stdout",
     "output_type": "stream",
     "text": [
      "\n",
      "Подбор гиперпараметров (по f1_macro)...\n",
      "Fitting 5 folds for each of 1944 candidates, totalling 9720 fits\n"
     ]
    }
   ],
   "source": [
    "# Блок 6 - обучение лучшей модели\n",
    "print(\"\\nПодбор гиперпараметров (по f1_macro)...\")\n",
    "grid_search.fit(X_train_balanced, y_train_balanced)"
   ]
  },
  {
   "cell_type": "code",
   "execution_count": null,
   "id": "7539f2d6",
   "metadata": {},
   "outputs": [
    {
     "name": "stdout",
     "output_type": "stream",
     "text": [
      "Лучшие параметры:\n",
      " {'activation': 'tanh', 'alpha': 0.005, 'early_stopping': True, 'hidden_layer_sizes': (8,), 'learning_rate': 'constant', 'learning_rate_init': 1e-08, 'max_iter': 400, 'n_iter_no_change': 5, 'solver': 'lbfgs', 'tol': 0.0001}\n",
      "F1-мера на кросс-валидации: 0.9873015873015873\n"
     ]
    }
   ],
   "source": [
    "# Блок 7 - результаты подбора\n",
    "print(\"Лучшие параметры:\\n\", grid_search.best_params_)\n",
    "print(\"F1-мера на кросс-валидации:\", grid_search.best_score_)\n",
    "\n",
    "best_model = grid_search.best_estimator_\n",
    "y_pred = best_model.predict(X_test_scaled)"
   ]
  },
  {
   "cell_type": "code",
   "execution_count": null,
   "id": "140e5d6b",
   "metadata": {},
   "outputs": [
    {
     "name": "stdout",
     "output_type": "stream",
     "text": [
      "\n",
      "Отчёт по классификации:\n",
      "              precision    recall  f1-score   support\n",
      "\n",
      "           1       1.00      0.94      0.97        17\n",
      "           2       0.88      1.00      0.93         7\n",
      "           3       1.00      1.00      1.00         1\n",
      "\n",
      "    accuracy                           0.96        25\n",
      "   macro avg       0.96      0.98      0.97        25\n",
      "weighted avg       0.96      0.96      0.96        25\n",
      "\n",
      "\n",
      "F1-мера (weighted): 0.9607\n"
     ]
    }
   ],
   "source": [
    "# Блок 8 - метрики\n",
    "print(\"\\nОтчёт по классификации:\")\n",
    "print(classification_report(y_test, y_pred))\n",
    "\n",
    "f1 = f1_score(y_test, y_pred, average='weighted')\n",
    "print(f\"\\nF1-мера (weighted): {f1:.4f}\")"
   ]
  },
  {
   "cell_type": "code",
   "execution_count": null,
   "id": "d9762a7f",
   "metadata": {},
   "outputs": [
    {
     "data": {
      "image/png": "[encoded data removed]",
      "text/plain": [
       "<Figure size 640x480 with 2 Axes>"
      ]
     },
     "metadata": {},
     "output_type": "display_data"
    }
   ],
   "source": [
    "# Блок 9 - матрица ошибок\n",
    "cm = confusion_matrix(y_test, y_pred)\n",
    "disp = ConfusionMatrixDisplay(confusion_matrix=cm, display_labels=range(1, cm.shape[0] + 1))\n",
    "disp.plot(cmap='Blues')\n",
    "plt.title(\"Матрица ошибок Zв\")\n",
    "plt.show()"
   ]
  },
  {
   "cell_type": "code",
   "execution_count": null,
   "id": "28f7d1f6",
   "metadata": {},
   "outputs": [
    {
     "name": "stdout",
     "output_type": "stream",
     "text": [
      "\n",
      "Сравнение предсказаний:\n",
      "    Zв (истинное)  Zв (предсказанное)\n",
      "0               1                   1\n",
      "1               1                   1\n",
      "2               1                   1\n",
      "3               1                   1\n",
      "4               3                   3\n",
      "5               2                   2\n",
      "6               2                   2\n",
      "7               1                   1\n",
      "8               1                   1\n",
      "9               1                   1\n",
      "10              1                   1\n",
      "11              2                   2\n",
      "12              1                   1\n",
      "13              2                   2\n",
      "14              1                   2\n",
      "15              1                   1\n",
      "16              1                   1\n",
      "17              1                   1\n",
      "18              1                   1\n",
      "19              2                   2\n",
      "20              1                   1\n",
      "21              2                   2\n",
      "22              1                   1\n",
      "23              2                   2\n",
      "24              1                   1\n"
     ]
    }
   ],
   "source": [
    "# Блок 10 - сравнение предсказаний\n",
    "test_comparison_model = pd.DataFrame({\n",
    "    \"Zв (истинное)\": y_test.values,\n",
    "    \"Zв (предсказанное)\": y_pred\n",
    "})\n",
    "print(\"\\nСравнение предсказаний:\")\n",
    "print(test_comparison_model)"
   ]
  }
 ],
 "metadata": {
  "kernelspec": {
   "display_name": "Python 3",
   "language": "python",
   "name": "python3"
  },
  "language_info": {
   "codemirror_mode": {
    "name": "ipython",
    "version": 3
   },
   "file_extension": ".py",
   "mimetype": "text/x-python",
   "name": "python",
   "nbconvert_exporter": "python",
   "pygments_lexer": "ipython3",
   "version": "3.12.10"
  }
 },
 "nbformat": 4,
 "nbformat_minor": 5
}
